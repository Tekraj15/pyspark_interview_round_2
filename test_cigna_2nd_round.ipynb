{
	"cells": [
		{
			"cell_type": "markdown",
			"metadata": {
				"editable": true,
				"trusted": true
			},
			"source": [
				"# AWS Glue Studio Notebook\n",
				"##### You are now running a AWS Glue Studio notebook; To start using your notebook you need to start an AWS Glue Interactive Session.\n"
			]
		},
		{
			"cell_type": "markdown",
			"metadata": {
				"editable": true,
				"trusted": true
			},
			"source": [
				"#### Optional: Run this cell to see available notebook commands (\"magics\").\n"
			]
		},
		{
			"cell_type": "code",
			"execution_count": null,
			"metadata": {
				"editable": true,
				"trusted": true,
				"vscode": {
					"languageId": "python_glue_session"
				}
			},
			"outputs": [],
			"source": [
				"%help"
			]
		},
		{
			"cell_type": "markdown",
			"metadata": {
				"editable": true,
				"trusted": true
			},
			"source": [
				"####  Run this cell to set up and start your interactive session.\n"
			]
		},
		{
			"cell_type": "code",
			"execution_count": 68,
			"metadata": {
				"editable": true,
				"trusted": true,
				"vscode": {
					"languageId": "python_glue_session"
				}
			},
			"outputs": [
				{
					"name": "stderr",
					"output_type": "stream",
					"text": [
						"You are already connected to a glueetl session 2c519c3a-d5df-4fce-bb95-9896f8af61c5.\n",
						"\n",
						"No change will be made to the current session that is set as glueetl. The session configuration change will apply to newly created sessions.\n"
					]
				},
				{
					"name": "stdout",
					"output_type": "stream",
					"text": [
						"Current idle_timeout is 2880 minutes.\n",
						"idle_timeout has been set to 2880 minutes.\n"
					]
				},
				{
					"name": "stderr",
					"output_type": "stream",
					"text": [
						"You are already connected to a glueetl session 2c519c3a-d5df-4fce-bb95-9896f8af61c5.\n",
						"\n",
						"No change will be made to the current session that is set as glueetl. The session configuration change will apply to newly created sessions.\n"
					]
				},
				{
					"name": "stdout",
					"output_type": "stream",
					"text": [
						"Setting Glue version to: 3.0\n"
					]
				},
				{
					"name": "stderr",
					"output_type": "stream",
					"text": [
						"You are already connected to a glueetl session 2c519c3a-d5df-4fce-bb95-9896f8af61c5.\n",
						"\n",
						"No change will be made to the current session that is set as glueetl. The session configuration change will apply to newly created sessions.\n"
					]
				},
				{
					"name": "stdout",
					"output_type": "stream",
					"text": [
						"Previous worker type: G.1X\n",
						"Setting new worker type to: G.1X\n"
					]
				},
				{
					"name": "stderr",
					"output_type": "stream",
					"text": [
						"You are already connected to a glueetl session 2c519c3a-d5df-4fce-bb95-9896f8af61c5.\n",
						"\n",
						"No change will be made to the current session that is set as glueetl. The session configuration change will apply to newly created sessions.\n"
					]
				},
				{
					"name": "stdout",
					"output_type": "stream",
					"text": [
						"Previous number of workers: 5\n",
						"Setting new number of workers to: 5\n",
						"\n"
					]
				}
			],
			"source": [
				"%idle_timeout 2880\n",
				"%glue_version 3.0\n",
				"%worker_type G.1X\n",
				"%number_of_workers 5\n",
				"\n",
				"import sys\n",
				"from awsglue.transforms import *\n",
				"from awsglue.utils import getResolvedOptions\n",
				"from pyspark.context import SparkContext\n",
				"from awsglue.context import GlueContext\n",
				"from awsglue.job import Job\n",
				"\n",
				"from pyspark.sql.functions import col, isnan, when, count, round, mean\n",
				"\n",
				"  \n",
				"sc = SparkContext.getOrCreate()\n",
				"glueContext = GlueContext(sc)\n",
				"spark = glueContext.spark_session\n",
				"job = Job(glueContext)"
			]
		},
		{
			"cell_type": "code",
			"execution_count": 54,
			"metadata": {
				"trusted": true,
				"vscode": {
					"languageId": "python_glue_session"
				}
			},
			"outputs": [
				{
					"name": "stdout",
					"output_type": "stream",
					"text": [
						"\n"
					]
				}
			],
			"source": [
				"s3_path = 's3://tekraj-test2/cigna-test/Churn/charges.csv'"
			]
		},
		{
			"cell_type": "code",
			"execution_count": 55,
			"metadata": {
				"trusted": true,
				"vscode": {
					"languageId": "python_glue_session"
				}
			},
			"outputs": [
				{
					"name": "stdout",
					"output_type": "stream",
					"text": [
						"\n"
					]
				}
			],
			"source": [
				"df = spark.read.csv(s3_path, header= True)"
			]
		},
		{
			"cell_type": "code",
			"execution_count": 46,
			"metadata": {
				"trusted": true,
				"vscode": {
					"languageId": "python_glue_session"
				}
			},
			"outputs": [
				{
					"name": "stdout",
					"output_type": "stream",
					"text": [
						"+----------+------+--------------+----------------+--------------------+--------------+------------+-----+\n",
						"|customerID|tenure|      contract|paperlessBilling|       paymentMethod|monthlyCharges|totalCharges|churn|\n",
						"+----------+------+--------------+----------------+--------------------+--------------+------------+-----+\n",
						"|7590-VHVEG|     1|Month-to-month|             Yes|    Electronic check|         29.85|       29.85|   No|\n",
						"|5575-GNVDE|    34|      One year|              No|        Mailed check|         56.95|      1889.5|   No|\n",
						"|3668-QPYBK|     2|Month-to-month|             Yes|        Mailed check|         53.85|      108.15|  Yes|\n",
						"|7795-CFOCW|    45|      One year|              No|Bank transfer (au...|          42.3|     1840.75|   No|\n",
						"|9237-HQITU|     2|Month-to-month|             Yes|    Electronic check|          70.7|      151.65|  Yes|\n",
						"|9305-CDSKC|     8|Month-to-month|             Yes|    Electronic check|         99.65|       820.5|  Yes|\n",
						"|1452-KIOVK|    22|Month-to-month|             Yes|Credit card (auto...|          89.1|      1949.4|   No|\n",
						"|6713-OKOMC|    10|Month-to-month|              No|        Mailed check|         29.75|       301.9|   No|\n",
						"|7892-POOKP|    28|Month-to-month|             Yes|    Electronic check|         104.8|     3046.05|  Yes|\n",
						"|6388-TABGU|    62|      One year|              No|Bank transfer (au...|         56.15|     3487.95|   No|\n",
						"+----------+------+--------------+----------------+--------------------+--------------+------------+-----+\n",
						"only showing top 10 rows\n"
					]
				}
			],
			"source": [
				"df.show(10)"
			]
		},
		{
			"cell_type": "code",
			"execution_count": 49,
			"metadata": {
				"trusted": true,
				"vscode": {
					"languageId": "python_glue_session"
				}
			},
			"outputs": [
				{
					"name": "stdout",
					"output_type": "stream",
					"text": [
						"root\n",
						" |-- customerID: string (nullable = true)\n",
						" |-- tenure: string (nullable = true)\n",
						" |-- contract: string (nullable = true)\n",
						" |-- paperlessBilling: string (nullable = true)\n",
						" |-- paymentMethod: string (nullable = true)\n",
						" |-- monthlyCharges: string (nullable = true)\n",
						" |-- totalCharges: string (nullable = true)\n",
						" |-- churn: string (nullable = true)\n"
					]
				}
			],
			"source": [
				"df.printSchema()"
			]
		},
		{
			"cell_type": "code",
			"execution_count": null,
			"metadata": {
				"vscode": {
					"languageId": "python_glue_session"
				}
			},
			"outputs": [],
			"source": []
		},
		{
			"cell_type": "code",
			"execution_count": 67,
			"metadata": {
				"trusted": true,
				"vscode": {
					"languageId": "python_glue_session"
				}
			},
			"outputs": [
				{
					"name": "stdout",
					"output_type": "stream",
					"text": [
						"+----------+------+--------+----------------+-------------+--------------+------------+-----+\n",
						"|customerID|tenure|contract|paperlessBilling|paymentMethod|monthlyCharges|totalCharges|churn|\n",
						"+----------+------+--------+----------------+-------------+--------------+------------+-----+\n",
						"|         0|     0|       0|               0|            0|           455|         455|    0|\n",
						"+----------+------+--------+----------------+-------------+--------------+------------+-----+\n"
					]
				}
			],
			"source": [
				"# Checking null counts in all the columns\n",
				"df.select([count(when(col(column).isNull() | (col(column)=='NA') | isnan(column), column)).alias(column) for column in df.columns]).show()"
			]
		},
		{
			"cell_type": "code",
			"execution_count": 95,
			"metadata": {
				"trusted": true,
				"vscode": {
					"languageId": "python_glue_session"
				}
			},
			"outputs": [
				{
					"name": "stdout",
					"output_type": "stream",
					"text": [
						"\n"
					]
				}
			],
			"source": [
				"df = df.withColumn(\"monthlyCharges\", col(\"monthlyCharges\").cast(\"float\"))\n",
				"df = df.withColumn(\"totalCharges\", col(\"totalCharges\").cast(\"float\"))\n",
				"df = df.withColumn(\"tenure\", col(\"tenure\").cast(\"float\"))"
			]
		},
		{
			"cell_type": "code",
			"execution_count": 75,
			"metadata": {
				"trusted": true,
				"vscode": {
					"languageId": "python_glue_session"
				}
			},
			"outputs": [
				{
					"name": "stdout",
					"output_type": "stream",
					"text": [
						"root\n",
						" |-- customerID: string (nullable = true)\n",
						" |-- tenure: string (nullable = true)\n",
						" |-- contract: string (nullable = true)\n",
						" |-- paperlessBilling: string (nullable = true)\n",
						" |-- paymentMethod: string (nullable = true)\n",
						" |-- monthlyCharges: double (nullable = true)\n",
						" |-- totalCharges: double (nullable = true)\n",
						" |-- churn: string (nullable = true)\n"
					]
				}
			],
			"source": [
				"df.printSchema()"
			]
		},
		{
			"cell_type": "code",
			"execution_count": 81,
			"metadata": {
				"trusted": true,
				"vscode": {
					"languageId": "python_glue_session"
				}
			},
			"outputs": [
				{
					"name": "stdout",
					"output_type": "stream",
					"text": [
						"\n"
					]
				}
			],
			"source": [
				"trim_perc = 0.1"
			]
		},
		{
			"cell_type": "code",
			"execution_count": 96,
			"metadata": {
				"trusted": true,
				"vscode": {
					"languageId": "python_glue_session"
				}
			},
			"outputs": [
				{
					"name": "stdout",
					"output_type": "stream",
					"text": [
						"\n"
					]
				}
			],
			"source": [
				"lower_trim, upper_trim = df.approxQuantile(\"monthlyCharges\", [trim_perc/2, 1 - trim_perc/2], 0)"
			]
		},
		{
			"cell_type": "code",
			"execution_count": 97,
			"metadata": {
				"trusted": true,
				"vscode": {
					"languageId": "python_glue_session"
				}
			},
			"outputs": [
				{
					"name": "stdout",
					"output_type": "stream",
					"text": [
						"\n"
					]
				}
			],
			"source": [
				"trimmed_df = df.filter((col(\"monthlyCharges\") >= lower_trim) & (col(\"monthlyCharges\") <= upper_trim))"
			]
		},
		{
			"cell_type": "code",
			"execution_count": 98,
			"metadata": {
				"trusted": true,
				"vscode": {
					"languageId": "python_glue_session"
				}
			},
			"outputs": [
				{
					"name": "stdout",
					"output_type": "stream",
					"text": [
						"\n"
					]
				}
			],
			"source": [
				"trimmed_avg = trimmed_df.select(mean(col(\"monthlyCharges\"))).first()[0]"
			]
		},
		{
			"cell_type": "code",
			"execution_count": 99,
			"metadata": {
				"trusted": true,
				"vscode": {
					"languageId": "python_glue_session"
				}
			},
			"outputs": [
				{
					"name": "stdout",
					"output_type": "stream",
					"text": [
						"TypeError: Invalid argument, not a string or column: 64.50086309977124 of type <class 'float'>. For column literals, use 'lit', 'array', 'struct' or 'create_map' function.\n"
					]
				}
			],
			"source": [
				"# 3. Filling missing values in monthlyCharges col\n",
				"df = df.withColumn(\"monthlyCharges\", when(col(\"monthlyCharges\").isNull(), round(trimmed_avg)).otherwise(col(\"monthlyCharges\")))"
			]
		},
		{
			"cell_type": "code",
			"execution_count": 100,
			"metadata": {
				"trusted": true,
				"vscode": {
					"languageId": "python_glue_session"
				}
			},
			"outputs": [
				{
					"name": "stdout",
					"output_type": "stream",
					"text": [
						"\n"
					]
				}
			],
			"source": [
				"# 4. Filling Missing values in totalCharges column\n",
				"df = df.withColumn(\"totalCharges\", when(col(\"monthlyCharges\").isNull(), round(col(\"monthlyCharges\")/col(\"tenure\"))).otherwise(col(\"totalCharges\")))"
			]
		},
		{
			"cell_type": "code",
			"execution_count": 101,
			"metadata": {
				"trusted": true,
				"vscode": {
					"languageId": "python_glue_session"
				}
			},
			"outputs": [
				{
					"name": "stdout",
					"output_type": "stream",
					"text": [
						"+----------+------+--------------+----------------+--------------------+--------------+------------+-----+\n",
						"|customerID|tenure|      contract|paperlessBilling|       paymentMethod|monthlyCharges|totalCharges|churn|\n",
						"+----------+------+--------------+----------------+--------------------+--------------+------------+-----+\n",
						"|7590-VHVEG|   1.0|Month-to-month|             Yes|    Electronic check|         29.85|        30.0|   No|\n",
						"|5575-GNVDE|  34.0|      One year|              No|        Mailed check|         56.95|         2.0|   No|\n",
						"|3668-QPYBK|   2.0|Month-to-month|             Yes|        Mailed check|         53.85|        27.0|  Yes|\n",
						"|7795-CFOCW|  45.0|      One year|              No|Bank transfer (au...|          42.3|         1.0|   No|\n",
						"|9237-HQITU|   2.0|Month-to-month|             Yes|    Electronic check|          70.7|        35.0|  Yes|\n",
						"|9305-CDSKC|   8.0|Month-to-month|             Yes|    Electronic check|         99.65|        12.0|  Yes|\n",
						"|1452-KIOVK|  22.0|Month-to-month|             Yes|Credit card (auto...|          89.1|         4.0|   No|\n",
						"|6713-OKOMC|  10.0|Month-to-month|              No|        Mailed check|         29.75|         3.0|   No|\n",
						"|7892-POOKP|  28.0|Month-to-month|             Yes|    Electronic check|         104.8|         4.0|  Yes|\n",
						"|6388-TABGU|  62.0|      One year|              No|Bank transfer (au...|         56.15|         1.0|   No|\n",
						"|9763-GRSKD|  13.0|Month-to-month|             Yes|        Mailed check|         49.95|         4.0|   No|\n",
						"|7469-LKBCI|  16.0|      Two year|              No|Credit card (auto...|         18.95|         1.0|   No|\n",
						"|8091-TTVAX|  58.0|      One year|              No|Credit card (auto...|        100.35|         2.0|   No|\n",
						"|0280-XJGEX|  49.0|Month-to-month|             Yes|Bank transfer (au...|         103.7|         2.0|  Yes|\n",
						"|5129-JLPIS|  25.0|Month-to-month|             Yes|    Electronic check|         105.5|         4.0|   No|\n",
						"|3655-SNQYZ|  69.0|      Two year|              No|Credit card (auto...|      64.35148|         1.0|   No|\n",
						"|8191-XWSZG|  52.0|      One year|              No|        Mailed check|         20.65|         0.0|   No|\n",
						"|9959-WOFKT|  71.0|      Two year|              No|Bank transfer (au...|         106.7|         2.0|   No|\n",
						"|4190-MFLUW|  10.0|Month-to-month|              No|Credit card (auto...|          55.2|         6.0|  Yes|\n",
						"|4183-MYFRB|  21.0|Month-to-month|             Yes|    Electronic check|         90.05|         4.0|   No|\n",
						"|8779-QRDMV|   1.0|Month-to-month|             Yes|    Electronic check|         39.65|        40.0|  Yes|\n",
						"|1680-VDCWW|  12.0|      One year|              No|Bank transfer (au...|          19.8|         2.0|   No|\n",
						"|1066-JKSGK|   1.0|Month-to-month|              No|        Mailed check|         20.15|        20.0|  Yes|\n",
						"|3638-WEABW|  58.0|      Two year|             Yes|Credit card (auto...|          59.9|         1.0|   No|\n",
						"|6322-HRPFA|  49.0|Month-to-month|              No|Credit card (auto...|          59.6|         1.0|   No|\n",
						"|6865-JZNKO|  30.0|Month-to-month|             Yes|Bank transfer (au...|          55.3|         2.0|   No|\n",
						"|6467-CHFZW|  47.0|Month-to-month|             Yes|    Electronic check|         99.35|         2.0|  Yes|\n",
						"|8665-UTDHZ|   1.0|Month-to-month|              No|    Electronic check|          30.2|        30.0|  Yes|\n",
						"|5248-YGIJN|  72.0|      Two year|             Yes|Credit card (auto...|         90.25|         1.0|   No|\n",
						"|8773-HHUOZ|  17.0|Month-to-month|             Yes|        Mailed check|          64.7|         4.0|  Yes|\n",
						"+----------+------+--------------+----------------+--------------------+--------------+------------+-----+\n",
						"only showing top 30 rows\n"
					]
				}
			],
			"source": [
				"df.show(30)"
			]
		},
		{
			"cell_type": "code",
			"execution_count": null,
			"metadata": {
				"vscode": {
					"languageId": "python_glue_session"
				}
			},
			"outputs": [],
			"source": [
				"#avg_value = df.select(mean(col(\"monthlyCharges\"))).filter()[0]"
			]
		},
		{
			"cell_type": "code",
			"execution_count": null,
			"metadata": {
				"vscode": {
					"languageId": "python_glue_session"
				}
			},
			"outputs": [],
			"source": [
				"# 5. Calculating the Churn Rate"
			]
		},
		{
			"cell_type": "code",
			"execution_count": 109,
			"metadata": {
				"trusted": true,
				"vscode": {
					"languageId": "python_glue_session"
				}
			},
			"outputs": [
				{
					"name": "stdout",
					"output_type": "stream",
					"text": [
						"\n"
					]
				}
			],
			"source": [
				"churn_df = df.filter(col(\"churn\")=='Yes')"
			]
		},
		{
			"cell_type": "code",
			"execution_count": 110,
			"metadata": {
				"trusted": true,
				"vscode": {
					"languageId": "python_glue_session"
				}
			},
			"outputs": [
				{
					"name": "stdout",
					"output_type": "stream",
					"text": [
						"\n"
					]
				}
			],
			"source": [
				"churn_counts = churn_df.count()\n",
				"total_customers = df.count()"
			]
		},
		{
			"cell_type": "code",
			"execution_count": 114,
			"metadata": {
				"trusted": true,
				"vscode": {
					"languageId": "python_glue_session"
				}
			},
			"outputs": [
				{
					"name": "stdout",
					"output_type": "stream",
					"text": [
						"26.578498293515356\n"
					]
				}
			],
			"source": [
				"churn_rate = (churn_counts/total_customers)*100\n",
				"print(churn_rate)"
			]
		},
		{
			"cell_type": "code",
			"execution_count": 24,
			"metadata": {
				"trusted": true,
				"vscode": {
					"languageId": "python_glue_session"
				}
			},
			"outputs": [],
			"source": [
				"\n",
				"# 2nd Data - Personal"
			]
		},
		{
			"cell_type": "code",
			"execution_count": 16,
			"metadata": {
				"trusted": true,
				"vscode": {
					"languageId": "python_glue_session"
				}
			},
			"outputs": [
				{
					"name": "stdout",
					"output_type": "stream",
					"text": [
						"\n"
					]
				}
			],
			"source": [
				"s3_path2 = 's3://tekraj-test2/cigna-test/Churn/personal.csv'"
			]
		},
		{
			"cell_type": "code",
			"execution_count": 17,
			"metadata": {
				"trusted": true,
				"vscode": {
					"languageId": "python_glue_session"
				}
			},
			"outputs": [
				{
					"name": "stdout",
					"output_type": "stream",
					"text": [
						"\n"
					]
				}
			],
			"source": [
				"df2 = spark.read.csv(s3_path2, header = True, inferSchema = True)"
			]
		},
		{
			"cell_type": "code",
			"execution_count": 37,
			"metadata": {
				"trusted": true,
				"vscode": {
					"languageId": "python_glue_session"
				}
			},
			"outputs": [
				{
					"name": "stdout",
					"output_type": "stream",
					"text": [
						"+----------+------+-------+----------+---+\n",
						"|customerID|gender|partner|dependents|age|\n",
						"+----------+------+-------+----------+---+\n",
						"|         0|     0|      0|         0|  0|\n",
						"+----------+------+-------+----------+---+\n"
					]
				}
			],
			"source": [
				"null_cols = df2.select([count(when(col(column).isNull() | isnan(column), column)).alias(column) for column in df2.columns]).show()"
			]
		},
		{
			"cell_type": "code",
			"execution_count": null,
			"metadata": {
				"vscode": {
					"languageId": "python_glue_session"
				}
			},
			"outputs": [],
			"source": []
		},
		{
			"cell_type": "code",
			"execution_count": 115,
			"metadata": {
				"trusted": true,
				"vscode": {
					"languageId": "python_glue_session"
				}
			},
			"outputs": [
				{
					"name": "stdout",
					"output_type": "stream",
					"text": [
						"+----------+------+-------+----------+---+\n",
						"|customerID|gender|partner|dependents|age|\n",
						"+----------+------+-------+----------+---+\n",
						"|5575-GNVDE|  Male|     No|        No| 41|\n",
						"|3668-QPYBK|  Male|     No|        No| 58|\n",
						"|7795-CFOCW|  Male|     No|        No| 61|\n",
						"|9237-HQITU|Female|     No|        No| 66|\n",
						"|9305-CDSKC|Female|     No|        No| 87|\n",
						"|1452-KIOVK|  Male|     No|       Yes| 39|\n",
						"|6713-OKOMC|Female|     No|        No| 39|\n",
						"|7892-POOKP|Female|    Yes|        No| 38|\n",
						"|6388-TABGU|  Male|     No|       Yes| 50|\n",
						"|9763-GRSKD|  Male|    Yes|       Yes| 50|\n",
						"+----------+------+-------+----------+---+\n",
						"only showing top 10 rows\n"
					]
				}
			],
			"source": [
				"df2.show(10)"
			]
		},
		{
			"cell_type": "code",
			"execution_count": 116,
			"metadata": {
				"trusted": true,
				"vscode": {
					"languageId": "python_glue_session"
				}
			},
			"outputs": [
				{
					"name": "stdout",
					"output_type": "stream",
					"text": [
						"root\n",
						" |-- customerID: string (nullable = true)\n",
						" |-- gender: string (nullable = true)\n",
						" |-- partner: string (nullable = true)\n",
						" |-- dependents: string (nullable = true)\n",
						" |-- age: integer (nullable = true)\n"
					]
				}
			],
			"source": [
				"df2.printSchema()"
			]
		},
		{
			"cell_type": "code",
			"execution_count": 22,
			"metadata": {
				"trusted": true,
				"vscode": {
					"languageId": "python_glue_session"
				}
			},
			"outputs": [],
			"source": [
				"\n",
				"# Question 6: Joined data\n",
				"# Join the updated charges data with personal data and the plan data by the customerID.\n"
			]
		},
		{
			"cell_type": "code",
			"execution_count": 118,
			"metadata": {
				"trusted": true,
				"vscode": {
					"languageId": "python_glue_session"
				}
			},
			"outputs": [
				{
					"name": "stdout",
					"output_type": "stream",
					"text": [
						"+----------+------+--------------+----------------+--------------------+--------------+------------+-----+------+-------+----------+---+\n",
						"|customerID|tenure|      contract|paperlessBilling|       paymentMethod|monthlyCharges|totalCharges|churn|gender|partner|dependents|age|\n",
						"+----------+------+--------------+----------------+--------------------+--------------+------------+-----+------+-------+----------+---+\n",
						"|5575-GNVDE|  34.0|      One year|              No|        Mailed check|         56.95|         2.0|   No|  Male|     No|        No| 41|\n",
						"|3668-QPYBK|   2.0|Month-to-month|             Yes|        Mailed check|         53.85|        27.0|  Yes|  Male|     No|        No| 58|\n",
						"|7795-CFOCW|  45.0|      One year|              No|Bank transfer (au...|          42.3|         1.0|   No|  Male|     No|        No| 61|\n",
						"|9237-HQITU|   2.0|Month-to-month|             Yes|    Electronic check|          70.7|        35.0|  Yes|Female|     No|        No| 66|\n",
						"|9305-CDSKC|   8.0|Month-to-month|             Yes|    Electronic check|         99.65|        12.0|  Yes|Female|     No|        No| 87|\n",
						"|1452-KIOVK|  22.0|Month-to-month|             Yes|Credit card (auto...|          89.1|         4.0|   No|  Male|     No|       Yes| 39|\n",
						"|6713-OKOMC|  10.0|Month-to-month|              No|        Mailed check|         29.75|         3.0|   No|Female|     No|        No| 39|\n",
						"|7892-POOKP|  28.0|Month-to-month|             Yes|    Electronic check|         104.8|         4.0|  Yes|Female|    Yes|        No| 38|\n",
						"|6388-TABGU|  62.0|      One year|              No|Bank transfer (au...|         56.15|         1.0|   No|  Male|     No|       Yes| 50|\n",
						"|9763-GRSKD|  13.0|Month-to-month|             Yes|        Mailed check|         49.95|         4.0|   No|  Male|    Yes|       Yes| 50|\n",
						"|7469-LKBCI|  16.0|      Two year|              No|Credit card (auto...|         18.95|         1.0|   No|  Male|     No|        No| 47|\n",
						"|8091-TTVAX|  58.0|      One year|              No|Credit card (auto...|        100.35|         2.0|   No|  Male|    Yes|        No| 60|\n",
						"|0280-XJGEX|  49.0|Month-to-month|             Yes|Bank transfer (au...|         103.7|         2.0|  Yes|  Male|     No|        No| 46|\n",
						"|5129-JLPIS|  25.0|Month-to-month|             Yes|    Electronic check|         105.5|         4.0|   No|  Male|     No|        No| 46|\n",
						"|3655-SNQYZ|  69.0|      Two year|              No|Credit card (auto...|      64.35148|         1.0|   No|Female|    Yes|       Yes| 41|\n",
						"|8191-XWSZG|  52.0|      One year|              No|        Mailed check|         20.65|         0.0|   No|Female|     No|        No| 64|\n",
						"|9959-WOFKT|  71.0|      Two year|              No|Bank transfer (au...|         106.7|         2.0|   No|  Male|     No|       Yes| 32|\n",
						"|4190-MFLUW|  10.0|Month-to-month|              No|Credit card (auto...|          55.2|         6.0|  Yes|Female|    Yes|       Yes| 29|\n",
						"|4183-MYFRB|  21.0|Month-to-month|             Yes|    Electronic check|         90.05|         4.0|   No|Female|     No|        No| 26|\n",
						"|8779-QRDMV|   1.0|Month-to-month|             Yes|    Electronic check|         39.65|        40.0|  Yes|  Male|     No|        No| 25|\n",
						"+----------+------+--------------+----------------+--------------------+--------------+------------+-----+------+-------+----------+---+\n",
						"only showing top 20 rows\n"
					]
				}
			],
			"source": [
				"joined_data = df.join(df2, \"customerID\", \"inner\")\n",
				"joined_data.show()"
			]
		},
		{
			"cell_type": "code",
			"execution_count": null,
			"metadata": {
				"vscode": {
					"languageId": "python_glue_session"
				}
			},
			"outputs": [],
			"source": []
		},
		{
			"cell_type": "code",
			"execution_count": 23,
			"metadata": {
				"trusted": true,
				"vscode": {
					"languageId": "python_glue_session"
				}
			},
			"outputs": [],
			"source": [
				"#Question 7: Calculate the percentage of customers more than 65 years old"
			]
		},
		{
			"cell_type": "code",
			"execution_count": 121,
			"metadata": {
				"trusted": true,
				"vscode": {
					"languageId": "python_glue_session"
				}
			},
			"outputs": [
				{
					"name": "stdout",
					"output_type": "stream",
					"text": [
						"\n"
					]
				}
			],
			"source": [
				"older_than_65 = joined_data.filter(col(\"age\") > 65).count()"
			]
		},
		{
			"cell_type": "code",
			"execution_count": 119,
			"metadata": {
				"trusted": true,
				"vscode": {
					"languageId": "python_glue_session"
				}
			},
			"outputs": [
				{
					"name": "stdout",
					"output_type": "stream",
					"text": [
						"\n"
					]
				}
			],
			"source": [
				"total_customers_new = joined_data.count()"
			]
		},
		{
			"cell_type": "code",
			"execution_count": 125,
			"metadata": {
				"trusted": true,
				"vscode": {
					"languageId": "python_glue_session"
				}
			},
			"outputs": [
				{
					"name": "stdout",
					"output_type": "stream",
					"text": [
						"34.874905231235786\n"
					]
				}
			],
			"source": [
				"percent_above_65 = (older_than_65 / total_customers_new) * 100\n",
				"print(percent_above_65)"
			]
		},
		{
			"cell_type": "code",
			"execution_count": null,
			"metadata": {
				"vscode": {
					"languageId": "python_glue_session"
				}
			},
			"outputs": [],
			"source": [
				"# 3rd Data - Plan"
			]
		},
		{
			"cell_type": "code",
			"execution_count": 20,
			"metadata": {
				"trusted": true,
				"vscode": {
					"languageId": "python_glue_session"
				}
			},
			"outputs": [
				{
					"name": "stdout",
					"output_type": "stream",
					"text": [
						"\n"
					]
				}
			],
			"source": [
				"s3_path3 = 's3://tekraj-test2/cigna-test/Churn/plan.csv'"
			]
		},
		{
			"cell_type": "code",
			"execution_count": 24,
			"metadata": {
				"trusted": true,
				"vscode": {
					"languageId": "python_glue_session"
				}
			},
			"outputs": [
				{
					"name": "stdout",
					"output_type": "stream",
					"text": [
						"\n"
					]
				}
			],
			"source": [
				"df3 = spark.read.csv(s3_path3, header = True, inferSchema = True)"
			]
		},
		{
			"cell_type": "code",
			"execution_count": 38,
			"metadata": {
				"trusted": true,
				"vscode": {
					"languageId": "python_glue_session"
				}
			},
			"outputs": [
				{
					"name": "stdout",
					"output_type": "stream",
					"text": [
						"+----------+------------+-------------+---------------+--------------+------------+----------------+-----------+-----------+---------------+\n",
						"|customerID|phoneService|multipleLines|internetService|onlineSecurity|onlineBackup|deviceProtection|techSupport|streamingTV|streamingMovies|\n",
						"+----------+------------+-------------+---------------+--------------+------------+----------------+-----------+-----------+---------------+\n",
						"|         0|           0|            0|              0|             0|           0|               0|          0|          0|              0|\n",
						"+----------+------------+-------------+---------------+--------------+------------+----------------+-----------+-----------+---------------+\n"
					]
				}
			],
			"source": [
				"null_cols = df3.select([count(when(col(column).isNull() | isnan(column), column)).alias(column) for column in df3.columns]).show()"
			]
		},
		{
			"cell_type": "code",
			"execution_count": 25,
			"metadata": {
				"trusted": true,
				"vscode": {
					"languageId": "python_glue_session"
				}
			},
			"outputs": [
				{
					"name": "stdout",
					"output_type": "stream",
					"text": [
						"+----------+------------+----------------+---------------+-------------------+-------------------+-------------------+-------------------+-------------------+-------------------+\n",
						"|customerID|phoneService|   multipleLines|internetService|     onlineSecurity|       onlineBackup|   deviceProtection|        techSupport|        streamingTV|    streamingMovies|\n",
						"+----------+------------+----------------+---------------+-------------------+-------------------+-------------------+-------------------+-------------------+-------------------+\n",
						"|5575-GNVDE|         Yes|              No|            DSL|                Yes|                 No|                Yes|                 No|                 No|                 No|\n",
						"|7795-CFOCW|          No|No phone service|            DSL|                Yes|                 No|                Yes|                Yes|                 No|                 No|\n",
						"|9237-HQITU|         Yes|              No|    Fiber optic|                 No|                 No|                 No|                 No|                 No|                 No|\n",
						"|1452-KIOVK|         Yes|             Yes|    Fiber optic|                 No|                Yes|                 No|                 No|                Yes|                 No|\n",
						"|6713-OKOMC|          No|No phone service|            DSL|                Yes|                 No|                 No|                 No|                 No|                 No|\n",
						"|7892-POOKP|         Yes|             Yes|    Fiber optic|                 No|                 No|                Yes|                Yes|                Yes|                Yes|\n",
						"|6388-TABGU|         Yes|              No|            DSL|                Yes|                Yes|                 No|                 No|                 No|                 No|\n",
						"|9763-GRSKD|         Yes|              No|            DSL|                Yes|                 No|                 No|                 No|                 No|                 No|\n",
						"|7469-LKBCI|         Yes|              No|             No|No internet service|No internet service|No internet service|No internet service|No internet service|No internet service|\n",
						"|8091-TTVAX|         Yes|             Yes|    Fiber optic|                 No|                 No|                Yes|                 No|                Yes|                Yes|\n",
						"+----------+------------+----------------+---------------+-------------------+-------------------+-------------------+-------------------+-------------------+-------------------+\n",
						"only showing top 10 rows\n"
					]
				}
			],
			"source": [
				"df3.show(10)"
			]
		},
		{
			"cell_type": "code",
			"execution_count": 26,
			"metadata": {
				"trusted": true,
				"vscode": {
					"languageId": "python_glue_session"
				}
			},
			"outputs": [
				{
					"name": "stdout",
					"output_type": "stream",
					"text": [
						"root\n",
						" |-- customerID: string (nullable = true)\n",
						" |-- phoneService: string (nullable = true)\n",
						" |-- multipleLines: string (nullable = true)\n",
						" |-- internetService: string (nullable = true)\n",
						" |-- onlineSecurity: string (nullable = true)\n",
						" |-- onlineBackup: string (nullable = true)\n",
						" |-- deviceProtection: string (nullable = true)\n",
						" |-- techSupport: string (nullable = true)\n",
						" |-- streamingTV: string (nullable = true)\n",
						" |-- streamingMovies: string (nullable = true)\n"
					]
				}
			],
			"source": [
				"df3.printSchema()"
			]
		},
		{
			"cell_type": "code",
			"execution_count": null,
			"metadata": {
				"vscode": {
					"languageId": "python_glue_session"
				}
			},
			"outputs": [],
			"source": []
		},
		{
			"cell_type": "code",
			"execution_count": null,
			"metadata": {
				"vscode": {
					"languageId": "python_glue_session"
				}
			},
			"outputs": [],
			"source": []
		}
	],
	"metadata": {
		"kernelspec": {
			"display_name": "Glue PySpark",
			"language": "python",
			"name": "glue_pyspark"
		},
		"language_info": {
			"codemirror_mode": {
				"name": "python",
				"version": 3
			},
			"file_extension": ".py",
			"mimetype": "text/x-python",
			"name": "Python_Glue_Session",
			"pygments_lexer": "python3"
		}
	},
	"nbformat": 4,
	"nbformat_minor": 4
}
